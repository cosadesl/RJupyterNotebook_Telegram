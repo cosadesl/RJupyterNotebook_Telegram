{
 "cells": [
  {
   "cell_type": "markdown",
   "id": "f8f48537",
   "metadata": {},
   "source": [
    "# Схлопывание размерности данных"
   ]
  },
  {
   "cell_type": "markdown",
   "id": "315f34e0",
   "metadata": {},
   "source": [
    "Часто возникает ситуация, когда необходимо сделать сабсет (выборку) данных. В R для этого используются операторы [, [[ и \\\\$. Это справедливо для S3 объектов. Для объектов S4 существуют два дополнительных оператора: аналогом \\\\$ является @, аналогом [[ является slot()). В разных структурах данных (векторах, матрицах, фреймах или списках) они работают по-разному. Разница заключается в возвращаемом объекте, точнее в его атрибуте dim().\n",
    "\n",
    "Понятно, что если речь идет о схлопывании (сокращении) размерности данных, то изменения касаются атрибута dim, то есть уменьшения его значений. Например, посмотрим на размерность данных вектора, матрицы и датафрейма."
   ]
  },
  {
   "cell_type": "code",
   "execution_count": 72,
   "id": "a2e02180",
   "metadata": {
    "scrolled": true
   },
   "outputs": [
    {
     "data": {
      "text/plain": [
       "NULL"
      ]
     },
     "metadata": {},
     "output_type": "display_data"
    }
   ],
   "source": [
    "# размерность вектора\n",
    "dim(c(1:4)) "
   ]
  },
  {
   "cell_type": "code",
   "execution_count": 73,
   "id": "9e8a4f62",
   "metadata": {},
   "outputs": [
    {
     "data": {
      "text/html": [
       "<style>\n",
       ".list-inline {list-style: none; margin:0; padding: 0}\n",
       ".list-inline>li {display: inline-block}\n",
       ".list-inline>li:not(:last-child)::after {content: \"\\00b7\"; padding: 0 .5ex}\n",
       "</style>\n",
       "<ol class=list-inline><li>4</li><li>1</li></ol>\n"
      ],
      "text/latex": [
       "\\begin{enumerate*}\n",
       "\\item 4\n",
       "\\item 1\n",
       "\\end{enumerate*}\n"
      ],
      "text/markdown": [
       "1. 4\n",
       "2. 1\n",
       "\n",
       "\n"
      ],
      "text/plain": [
       "[1] 4 1"
      ]
     },
     "metadata": {},
     "output_type": "display_data"
    }
   ],
   "source": [
    "# размерность матрицы\n",
    "dim(matrix(c(1:4)))"
   ]
  },
  {
   "cell_type": "code",
   "execution_count": 74,
   "id": "dc009793",
   "metadata": {},
   "outputs": [
    {
     "data": {
      "text/html": [
       "<style>\n",
       ".list-inline {list-style: none; margin:0; padding: 0}\n",
       ".list-inline>li {display: inline-block}\n",
       ".list-inline>li:not(:last-child)::after {content: \"\\00b7\"; padding: 0 .5ex}\n",
       "</style>\n",
       "<ol class=list-inline><li>4</li><li>2</li></ol>\n"
      ],
      "text/latex": [
       "\\begin{enumerate*}\n",
       "\\item 4\n",
       "\\item 2\n",
       "\\end{enumerate*}\n"
      ],
      "text/markdown": [
       "1. 4\n",
       "2. 2\n",
       "\n",
       "\n"
      ],
      "text/plain": [
       "[1] 4 2"
      ]
     },
     "metadata": {},
     "output_type": "display_data"
    }
   ],
   "source": [
    "# размерность датафрейма\n",
    "dim(data.frame(1:4, 1:4))"
   ]
  },
  {
   "cell_type": "markdown",
   "id": "77b92a4d",
   "metadata": {},
   "source": [
    "Размерность вектора NULL, матрица 4 на 1 (4 строки и 1 столбец), фрейм 4 на 2 (4 строки и 2 столбца).\n",
    "\n",
    "Схлопывание происходит в случае, если осуществляется сабсет из **матрицы или датафрейма** с помощью оператора [, за которым следует одиночный вектор (то есть одно число, одно имя или одно логическое значение TRUE). Например,"
   ]
  },
  {
   "cell_type": "code",
   "execution_count": 2,
   "id": "669e3e45",
   "metadata": {},
   "outputs": [
    {
     "name": "stdout",
     "output_type": "stream",
     "text": [
      " num [1:4] 2 4 6 8\n",
      " num [1:4] 2 4 6 8\n",
      " num [1:4] 2 4 6 8\n"
     ]
    }
   ],
   "source": [
    "df <- data.frame(x = c(1, 3, 7, 9), y = c(2, 4, 6, 8))\n",
    "str(df[ , 2])\n",
    "str(df[ , \"y\"])\n",
    "str(df[ , c(FALSE, TRUE)])"
   ]
  },
  {
   "cell_type": "markdown",
   "id": "78e1f518",
   "metadata": {},
   "source": [
    "Чтобы избежать такого поведения (оно работает по умолчанию), необходимо указывать параметр **drop = FALSE**."
   ]
  },
  {
   "cell_type": "code",
   "execution_count": 3,
   "id": "bd1a7426",
   "metadata": {},
   "outputs": [
    {
     "name": "stdout",
     "output_type": "stream",
     "text": [
      "'data.frame':\t4 obs. of  1 variable:\n",
      " $ y: num  2 4 6 8\n",
      "'data.frame':\t4 obs. of  1 variable:\n",
      " $ y: num  2 4 6 8\n",
      "'data.frame':\t4 obs. of  1 variable:\n",
      " $ y: num  2 4 6 8\n"
     ]
    }
   ],
   "source": [
    "df <- data.frame(x = c(1, 3, 7, 9), y = c(2, 4, 6, 8))\n",
    "str(df[ , 2, drop = FALSE])\n",
    "str(df[ , \"y\", drop = FALSE])\n",
    "str(df[ , c(FALSE, TRUE), drop = FALSE])"
   ]
  },
  {
   "cell_type": "markdown",
   "id": "ec927a2f",
   "metadata": {},
   "source": [
    "В этом случае на выходе получаем точно такой же по размерности объект как исходный, то есть из матрицы получаем матрицу, а из фрейма данных получаем фрейм, но не вектор значений. Особено полезно помнить при написании функций, которые работают с матрицами, массивами и датафреймами либо развить привычку указывать drop = FALSE. \n",
    "\n",
    "Альтернативой может быть использование тибблов (tibble) вместо датафреймов. У них по умолчанию выставлен drop = FALSE, а \\[ всегда возвращает тиббл.\n"
   ]
  }
 ],
 "metadata": {
  "kernelspec": {
   "display_name": "R",
   "language": "R",
   "name": "ir"
  },
  "language_info": {
   "codemirror_mode": "r",
   "file_extension": ".r",
   "mimetype": "text/x-r-source",
   "name": "R",
   "pygments_lexer": "r",
   "version": "3.6.3"
  },
  "varInspector": {
   "cols": {
    "lenName": 16,
    "lenType": 16,
    "lenVar": 40
   },
   "kernels_config": {
    "python": {
     "delete_cmd_postfix": "",
     "delete_cmd_prefix": "del ",
     "library": "var_list.py",
     "varRefreshCmd": "print(var_dic_list())"
    },
    "r": {
     "delete_cmd_postfix": ") ",
     "delete_cmd_prefix": "rm(",
     "library": "var_list.r",
     "varRefreshCmd": "cat(var_dic_list()) "
    }
   },
   "types_to_exclude": [
    "module",
    "function",
    "builtin_function_or_method",
    "instance",
    "_Feature"
   ],
   "window_display": false
  }
 },
 "nbformat": 4,
 "nbformat_minor": 5
}
