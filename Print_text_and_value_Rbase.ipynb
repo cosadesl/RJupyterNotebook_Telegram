{
 "cells": [
  {
   "cell_type": "markdown",
   "id": "76580a34",
   "metadata": {},
   "source": [
    "# Выводим на печать текст и вычисляемые значения: R base"
   ]
  },
  {
   "cell_type": "markdown",
   "id": "c7522fe9",
   "metadata": {},
   "source": [
    "На практике часто возникает ситуация, когда нужно вывести на печать текст с вычисленными значениями. Например, \"Температура замерзания жидкости -52 °C\". Как вывести такую строку с помощью функции print(), не всегда очевидно. Необходимо знать, что следует комбинировать print() с другими функциями. \n",
    "\n",
    "Все будем делать базовыми функциями R."
   ]
  },
  {
   "cell_type": "markdown",
   "id": "3c101836",
   "metadata": {},
   "source": [
    "## Комбинация функций paste() и print()."
   ]
  },
  {
   "cell_type": "code",
   "execution_count": 21,
   "id": "f282f074",
   "metadata": {
    "scrolled": true
   },
   "outputs": [
    {
     "name": "stdout",
     "output_type": "stream",
     "text": [
      "[1] \"Температура замерзания жидкости -52 °C\"\n"
     ]
    }
   ],
   "source": [
    "print(paste(\"Температура замерзания жидкости\", -52, \"°C\"))"
   ]
  },
  {
   "cell_type": "markdown",
   "id": "9042292b",
   "metadata": {},
   "source": [
    "Если сохранить рост в отдельную переменную, то код также отработает без ошибок."
   ]
  },
  {
   "cell_type": "code",
   "execution_count": 22,
   "id": "0378d824",
   "metadata": {},
   "outputs": [
    {
     "name": "stdout",
     "output_type": "stream",
     "text": [
      "[1] \"Температура замерзания жидкости -52 °C\"\n"
     ]
    }
   ],
   "source": [
    "temp <- -52\n",
    "print(paste(\"Температура замерзания жидкости\", temp, \"°C\"))"
   ]
  },
  {
   "cell_type": "markdown",
   "id": "5995835c",
   "metadata": {},
   "source": [
    "## Функция cat()"
   ]
  },
  {
   "cell_type": "markdown",
   "id": "2cb01aa3",
   "metadata": {},
   "source": [
    "Также можно вывести на печать текст с вычисленными значениями с помощью функцит cat()."
   ]
  },
  {
   "cell_type": "code",
   "execution_count": 23,
   "id": "0f43b5fe",
   "metadata": {},
   "outputs": [
    {
     "name": "stdout",
     "output_type": "stream",
     "text": [
      "Температура замерзания жидкости -52 °C"
     ]
    }
   ],
   "source": [
    "cat(\"Температура замерзания жидкости\", -52, \"°C\")"
   ]
  },
  {
   "cell_type": "code",
   "execution_count": 24,
   "id": "e69eca95",
   "metadata": {},
   "outputs": [
    {
     "name": "stdout",
     "output_type": "stream",
     "text": [
      "Температура замерзания жидкости -52 °C"
     ]
    }
   ],
   "source": [
    "cat(\"Температура замерзания жидкости\", temp, \"°C\")"
   ]
  },
  {
   "cell_type": "markdown",
   "id": "66490cdb",
   "metadata": {},
   "source": [
    "## Функция sprintf()"
   ]
  },
  {
   "cell_type": "markdown",
   "id": "a9025e9f",
   "metadata": {},
   "source": [
    "Данная функция является оберткой системной библиотеки языка С sprintf. Библиотека поддерживает команды для форматирования строк, которые чем-то напоминают f-строки Python."
   ]
  },
  {
   "cell_type": "code",
   "execution_count": 25,
   "id": "0e92a858",
   "metadata": {},
   "outputs": [
    {
     "data": {
      "text/html": [
       "'Жидкость замерзает при температуре около -52.5 °C'"
      ],
      "text/latex": [
       "'Жидкость замерзает при температуре около -52.5 °C'"
      ],
      "text/markdown": [
       "'Жидкость замерзает при температуре около -52.5 °C'"
      ],
      "text/plain": [
       "[1] \"Жидкость замерзает при температуре около -52.5 °C\""
      ]
     },
     "metadata": {},
     "output_type": "display_data"
    }
   ],
   "source": [
    "sprintf(\"Жидкость замерзает при температуре около %.1f °C\", -52.5)"
   ]
  },
  {
   "cell_type": "markdown",
   "id": "70d9b346",
   "metadata": {},
   "source": [
    "Немного усложним пример."
   ]
  },
  {
   "cell_type": "code",
   "execution_count": 26,
   "id": "cf3c7f28",
   "metadata": {},
   "outputs": [
    {
     "data": {
      "text/html": [
       "'Бензин замерзает при температуре около -60.0 °C'"
      ],
      "text/latex": [
       "'Бензин замерзает при температуре около -60.0 °C'"
      ],
      "text/markdown": [
       "'Бензин замерзает при температуре около -60.0 °C'"
      ],
      "text/plain": [
       "[1] \"Бензин замерзает при температуре около -60.0 °C\""
      ]
     },
     "metadata": {},
     "output_type": "display_data"
    }
   ],
   "source": [
    "sprintf(\"%s замерзает при температуре около %.1f °C\", \"Бензин\", -60.0)"
   ]
  },
  {
   "cell_type": "markdown",
   "id": "e7e1ddba",
   "metadata": {},
   "source": [
    "Добавим переменные."
   ]
  },
  {
   "cell_type": "code",
   "execution_count": 30,
   "id": "0e3c6d0e",
   "metadata": {},
   "outputs": [
    {
     "data": {
      "text/html": [
       "'Бензин замерзает при температуре около -60.0 °C'"
      ],
      "text/latex": [
       "'Бензин замерзает при температуре около -60.0 °C'"
      ],
      "text/markdown": [
       "'Бензин замерзает при температуре около -60.0 °C'"
      ],
      "text/plain": [
       "[1] \"Бензин замерзает при температуре около -60.0 °C\""
      ]
     },
     "metadata": {},
     "output_type": "display_data"
    }
   ],
   "source": [
    "Температура <- -60.0\n",
    "Жидкость <- \"Бензин\"\n",
    "sprintf(\"%s замерзает при температуре около %.1f °C\", Жидкость, Температура)"
   ]
  },
  {
   "cell_type": "markdown",
   "id": "2b601513",
   "metadata": {},
   "source": [
    "Используем функцию do.call(). Удобно, если результат работы некоторого кода есть аргумент функции."
   ]
  },
  {
   "cell_type": "code",
   "execution_count": 35,
   "id": "a7bbc1c4",
   "metadata": {},
   "outputs": [
    {
     "data": {
      "text/html": [
       "'Бензин замерзает при температуре около -60.0 °C'"
      ],
      "text/latex": [
       "'Бензин замерзает при температуре около -60.0 °C'"
      ],
      "text/markdown": [
       "'Бензин замерзает при температуре около -60.0 °C'"
      ],
      "text/plain": [
       "[1] \"Бензин замерзает при температуре около -60.0 °C\""
      ]
     },
     "metadata": {},
     "output_type": "display_data"
    }
   ],
   "source": [
    "text <- \"%s замерзает при температуре около %.1f °C\"\n",
    "vars <- list(Жидкость, Температура)\n",
    "do.call(sprintf, c(text, vars))"
   ]
  },
  {
   "cell_type": "markdown",
   "id": "165ebc7e",
   "metadata": {},
   "source": [
    "Сделаем собственный оператор. В этом случае важно знать, что переменных в vars должно быть столько же, сколько и форматируемых позиций в text, идущих со знаком %. Также необходимо обязательно заворачивать vars в list."
   ]
  },
  {
   "cell_type": "code",
   "execution_count": 39,
   "id": "de23a691",
   "metadata": {},
   "outputs": [
    {
     "data": {
      "text/html": [
       "'Бензин замерзает при температуре около -60.0 °C'"
      ],
      "text/latex": [
       "'Бензин замерзает при температуре около -60.0 °C'"
      ],
      "text/markdown": [
       "'Бензин замерзает при температуре около -60.0 °C'"
      ],
      "text/plain": [
       "[1] \"Бензин замерзает при температуре около -60.0 °C\""
      ]
     },
     "metadata": {},
     "output_type": "display_data"
    },
    {
     "data": {
      "text/html": [
       "'Бензин замерзает при температуре около -60.0 °C'"
      ],
      "text/latex": [
       "'Бензин замерзает при температуре около -60.0 °C'"
      ],
      "text/markdown": [
       "'Бензин замерзает при температуре около -60.0 °C'"
      ],
      "text/plain": [
       "[1] \"Бензин замерзает при температуре около -60.0 °C\""
      ]
     },
     "metadata": {},
     "output_type": "display_data"
    }
   ],
   "source": [
    "`%sprintf%`  <- function(text, vars) {do.call(sprintf, c(text, vars))}\n",
    "text %sprintf% vars\n",
    "`%sprintf%`(text, vars)"
   ]
  },
  {
   "cell_type": "markdown",
   "id": "532d2f9d",
   "metadata": {},
   "source": [
    "Последнаяя запись равносильно следующей. "
   ]
  },
  {
   "cell_type": "code",
   "execution_count": 42,
   "id": "b2f9604c",
   "metadata": {},
   "outputs": [
    {
     "data": {
      "text/html": [
       "TRUE"
      ],
      "text/latex": [
       "TRUE"
      ],
      "text/markdown": [
       "TRUE"
      ],
      "text/plain": [
       "[1] TRUE"
      ]
     },
     "metadata": {},
     "output_type": "display_data"
    }
   ],
   "source": [
    "5+2 == `+`(5, 2)"
   ]
  },
  {
   "cell_type": "markdown",
   "id": "543888e8",
   "metadata": {},
   "source": [
    "В данном случае оператор представялет собой инфиксную функцию, поэтому ее нужно брать в `backticks` (английская раскладка, буква Ё / тильда)."
   ]
  }
 ],
 "metadata": {
  "kernelspec": {
   "display_name": "R",
   "language": "R",
   "name": "ir"
  },
  "language_info": {
   "codemirror_mode": "r",
   "file_extension": ".r",
   "mimetype": "text/x-r-source",
   "name": "R",
   "pygments_lexer": "r",
   "version": "3.6.3"
  },
  "varInspector": {
   "cols": {
    "lenName": 16,
    "lenType": 16,
    "lenVar": 40
   },
   "kernels_config": {
    "python": {
     "delete_cmd_postfix": "",
     "delete_cmd_prefix": "del ",
     "library": "var_list.py",
     "varRefreshCmd": "print(var_dic_list())"
    },
    "r": {
     "delete_cmd_postfix": ") ",
     "delete_cmd_prefix": "rm(",
     "library": "var_list.r",
     "varRefreshCmd": "cat(var_dic_list()) "
    }
   },
   "types_to_exclude": [
    "module",
    "function",
    "builtin_function_or_method",
    "instance",
    "_Feature"
   ],
   "window_display": false
  }
 },
 "nbformat": 4,
 "nbformat_minor": 5
}
